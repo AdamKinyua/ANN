{
 "cells": [
  {
   "cell_type": "markdown",
   "metadata": {},
   "source": [
    "# Artificial Neural Network"
   ]
  },
  {
   "cell_type": "markdown",
   "metadata": {},
   "source": [
    "## importing libraries "
   ]
  },
  {
   "cell_type": "code",
   "execution_count": 1,
   "metadata": {},
   "outputs": [],
   "source": [
    "import numpy as np\n",
    "import pandas as pd\n",
    "import tensorflow as tf"
   ]
  },
  {
   "cell_type": "markdown",
   "metadata": {},
   "source": [
    "###### checking tensorflow version"
   ]
  },
  {
   "cell_type": "code",
   "execution_count": 2,
   "metadata": {},
   "outputs": [
    {
     "data": {
      "text/plain": [
       "'2.11.0'"
      ]
     },
     "execution_count": 2,
     "metadata": {},
     "output_type": "execute_result"
    }
   ],
   "source": [
    "tf.__version__"
   ]
  },
  {
   "cell_type": "markdown",
   "metadata": {},
   "source": [
    "## importing dataset. making sure its in data frame format"
   ]
  },
  {
   "cell_type": "code",
   "execution_count": 3,
   "metadata": {},
   "outputs": [],
   "source": [
    "dataset = pd.read_excel('Folds5x2_pp.xlsx')"
   ]
  },
  {
   "cell_type": "markdown",
   "metadata": {},
   "source": [
    "## creating two datasets; matrix for variables and vector for outputs "
   ]
  },
  {
   "cell_type": "code",
   "execution_count": 4,
   "metadata": {},
   "outputs": [],
   "source": [
    "x = dataset.iloc[:, :-1].values\n",
    "y = dataset.iloc[:, -1].values"
   ]
  },
  {
   "cell_type": "markdown",
   "metadata": {},
   "source": [
    "## splitting the dataset into subdatasets; for training our neural network and for testing"
   ]
  },
  {
   "cell_type": "code",
   "execution_count": 5,
   "metadata": {},
   "outputs": [],
   "source": [
    "from sklearn.model_selection import train_test_split\n",
    "x_train, x_test, y_train, y_test = train_test_split(x, y, test_size = 0.2, random_state = 0)"
   ]
  },
  {
   "cell_type": "markdown",
   "metadata": {},
   "source": [
    "# BUILDING THE ANN"
   ]
  },
  {
   "cell_type": "code",
   "execution_count": 6,
   "metadata": {},
   "outputs": [],
   "source": [
    "ann = tf.keras.models.Sequential()"
   ]
  },
  {
   "cell_type": "markdown",
   "metadata": {},
   "source": [
    "## adding the input layer and the first hidden layer"
   ]
  },
  {
   "cell_type": "markdown",
   "metadata": {},
   "source": [
    "### input layer is read in by default"
   ]
  },
  {
   "cell_type": "code",
   "execution_count": 7,
   "metadata": {},
   "outputs": [],
   "source": [
    "ann.add(tf.keras.layers.Dense(units = 6, activation = \"relu\"))"
   ]
  },
  {
   "cell_type": "markdown",
   "metadata": {},
   "source": [
    "## adding the second hidden layer"
   ]
  },
  {
   "cell_type": "code",
   "execution_count": 8,
   "metadata": {},
   "outputs": [],
   "source": [
    "ann.add(tf.keras.layers.Dense(units = 6, activation = \"relu\"))"
   ]
  },
  {
   "cell_type": "markdown",
   "metadata": {},
   "source": [
    "## adding the output layer"
   ]
  },
  {
   "cell_type": "code",
   "execution_count": 9,
   "metadata": {},
   "outputs": [],
   "source": [
    "ann.add(tf.keras.layers.Dense(units=1))"
   ]
  },
  {
   "cell_type": "markdown",
   "metadata": {},
   "source": [
    "## TRAINING THE ANN"
   ]
  },
  {
   "cell_type": "code",
   "execution_count": 10,
   "metadata": {},
   "outputs": [],
   "source": [
    "ann.compile(optimizer = 'adam', loss = 'mean_squared_error')"
   ]
  },
  {
   "cell_type": "markdown",
   "metadata": {},
   "source": [
    "### TRaining the ann on the training model"
   ]
  },
  {
   "cell_type": "code",
   "execution_count": 11,
   "metadata": {},
   "outputs": [
    {
     "name": "stdout",
     "output_type": "stream",
     "text": [
      "Epoch 1/100\n",
      "240/240 [==============================] - 1s 1ms/step - loss: 36048.2578\n",
      "Epoch 2/100\n",
      "240/240 [==============================] - 0s 1ms/step - loss: 216.4595\n",
      "Epoch 3/100\n",
      "240/240 [==============================] - 0s 951us/step - loss: 207.2776\n",
      "Epoch 4/100\n",
      "240/240 [==============================] - 0s 1ms/step - loss: 195.5912\n",
      "Epoch 5/100\n",
      "240/240 [==============================] - 0s 994us/step - loss: 182.4267\n",
      "Epoch 6/100\n",
      "240/240 [==============================] - 0s 1ms/step - loss: 167.1590\n",
      "Epoch 7/100\n",
      "240/240 [==============================] - 0s 1ms/step - loss: 150.5565\n",
      "Epoch 8/100\n",
      "240/240 [==============================] - 0s 1ms/step - loss: 133.6794\n",
      "Epoch 9/100\n",
      "240/240 [==============================] - 0s 1ms/step - loss: 115.4032\n",
      "Epoch 10/100\n",
      "240/240 [==============================] - 0s 1ms/step - loss: 97.7636\n",
      "Epoch 11/100\n",
      "240/240 [==============================] - 0s 1ms/step - loss: 80.9085\n",
      "Epoch 12/100\n",
      "240/240 [==============================] - 0s 1ms/step - loss: 66.2159\n",
      "Epoch 13/100\n",
      "240/240 [==============================] - 0s 1ms/step - loss: 54.0969\n",
      "Epoch 14/100\n",
      "240/240 [==============================] - 0s 2ms/step - loss: 45.2886\n",
      "Epoch 15/100\n",
      "240/240 [==============================] - 0s 1ms/step - loss: 39.1810\n",
      "Epoch 16/100\n",
      "240/240 [==============================] - 0s 1ms/step - loss: 35.6340\n",
      "Epoch 17/100\n",
      "240/240 [==============================] - 0s 1ms/step - loss: 33.0524\n",
      "Epoch 18/100\n",
      "240/240 [==============================] - 0s 996us/step - loss: 31.7637\n",
      "Epoch 19/100\n",
      "240/240 [==============================] - 0s 1ms/step - loss: 30.9381\n",
      "Epoch 20/100\n",
      "240/240 [==============================] - 0s 1ms/step - loss: 30.5533\n",
      "Epoch 21/100\n",
      "240/240 [==============================] - 0s 1ms/step - loss: 29.7183\n",
      "Epoch 22/100\n",
      "240/240 [==============================] - 0s 954us/step - loss: 29.5853\n",
      "Epoch 23/100\n",
      "240/240 [==============================] - 0s 1ms/step - loss: 28.9528\n",
      "Epoch 24/100\n",
      "240/240 [==============================] - 0s 1ms/step - loss: 28.5727\n",
      "Epoch 25/100\n",
      "240/240 [==============================] - 0s 1ms/step - loss: 28.3612\n",
      "Epoch 26/100\n",
      "240/240 [==============================] - 0s 1ms/step - loss: 27.8508\n",
      "Epoch 27/100\n",
      "240/240 [==============================] - 0s 1ms/step - loss: 27.7947\n",
      "Epoch 28/100\n",
      "240/240 [==============================] - 0s 992us/step - loss: 27.6287\n",
      "Epoch 29/100\n",
      "240/240 [==============================] - 0s 980us/step - loss: 27.6249\n",
      "Epoch 30/100\n",
      "240/240 [==============================] - 0s 950us/step - loss: 26.9513\n",
      "Epoch 31/100\n",
      "240/240 [==============================] - 0s 1ms/step - loss: 27.3812\n",
      "Epoch 32/100\n",
      "240/240 [==============================] - 0s 944us/step - loss: 26.9367\n",
      "Epoch 33/100\n",
      "240/240 [==============================] - 0s 1ms/step - loss: 27.8618\n",
      "Epoch 34/100\n",
      "240/240 [==============================] - 0s 1ms/step - loss: 27.1689\n",
      "Epoch 35/100\n",
      "240/240 [==============================] - 0s 1ms/step - loss: 27.3022\n",
      "Epoch 36/100\n",
      "240/240 [==============================] - 0s 953us/step - loss: 27.2425\n",
      "Epoch 37/100\n",
      "240/240 [==============================] - 0s 1ms/step - loss: 26.7558\n",
      "Epoch 38/100\n",
      "240/240 [==============================] - 0s 1ms/step - loss: 27.3643\n",
      "Epoch 39/100\n",
      "240/240 [==============================] - 0s 993us/step - loss: 26.8436\n",
      "Epoch 40/100\n",
      "240/240 [==============================] - 0s 1ms/step - loss: 26.8131\n",
      "Epoch 41/100\n",
      "240/240 [==============================] - 0s 1ms/step - loss: 27.2229\n",
      "Epoch 42/100\n",
      "240/240 [==============================] - 0s 1ms/step - loss: 27.6635\n",
      "Epoch 43/100\n",
      "240/240 [==============================] - 0s 1ms/step - loss: 26.9085\n",
      "Epoch 44/100\n",
      "240/240 [==============================] - 0s 1ms/step - loss: 26.8408\n",
      "Epoch 45/100\n",
      "240/240 [==============================] - 0s 1ms/step - loss: 27.0843\n",
      "Epoch 46/100\n",
      "240/240 [==============================] - 0s 1ms/step - loss: 27.2398\n",
      "Epoch 47/100\n",
      "240/240 [==============================] - 0s 1ms/step - loss: 28.1133\n",
      "Epoch 48/100\n",
      "240/240 [==============================] - 0s 1ms/step - loss: 27.1921\n",
      "Epoch 49/100\n",
      "240/240 [==============================] - 0s 1ms/step - loss: 27.6885\n",
      "Epoch 50/100\n",
      "240/240 [==============================] - 0s 1ms/step - loss: 27.0639\n",
      "Epoch 51/100\n",
      "240/240 [==============================] - 0s 1ms/step - loss: 26.9974\n",
      "Epoch 52/100\n",
      "240/240 [==============================] - 0s 1ms/step - loss: 27.2366\n",
      "Epoch 53/100\n",
      "240/240 [==============================] - 0s 1ms/step - loss: 27.3611\n",
      "Epoch 54/100\n",
      "240/240 [==============================] - 0s 1ms/step - loss: 26.6628\n",
      "Epoch 55/100\n",
      "240/240 [==============================] - 0s 1ms/step - loss: 26.8592\n",
      "Epoch 56/100\n",
      "240/240 [==============================] - 0s 1ms/step - loss: 26.9112\n",
      "Epoch 57/100\n",
      "240/240 [==============================] - 0s 984us/step - loss: 27.2334\n",
      "Epoch 58/100\n",
      "240/240 [==============================] - 0s 1ms/step - loss: 27.4356\n",
      "Epoch 59/100\n",
      "240/240 [==============================] - 0s 2ms/step - loss: 27.5368\n",
      "Epoch 60/100\n",
      "240/240 [==============================] - 0s 1ms/step - loss: 27.2762\n",
      "Epoch 61/100\n",
      "240/240 [==============================] - 0s 1ms/step - loss: 27.2507\n",
      "Epoch 62/100\n",
      "240/240 [==============================] - 0s 1ms/step - loss: 27.2371\n",
      "Epoch 63/100\n",
      "240/240 [==============================] - 0s 1ms/step - loss: 26.8453\n",
      "Epoch 64/100\n",
      "240/240 [==============================] - 0s 1ms/step - loss: 27.5066\n",
      "Epoch 65/100\n",
      "240/240 [==============================] - 0s 963us/step - loss: 28.1636\n",
      "Epoch 66/100\n",
      "240/240 [==============================] - 0s 944us/step - loss: 26.9272\n",
      "Epoch 67/100\n",
      "240/240 [==============================] - 0s 977us/step - loss: 26.9606\n",
      "Epoch 68/100\n",
      "240/240 [==============================] - 0s 960us/step - loss: 26.9594\n",
      "Epoch 69/100\n",
      "240/240 [==============================] - 0s 1ms/step - loss: 26.8902\n",
      "Epoch 70/100\n",
      "240/240 [==============================] - 0s 1ms/step - loss: 27.2419\n",
      "Epoch 71/100\n",
      "240/240 [==============================] - 0s 987us/step - loss: 27.6016\n",
      "Epoch 72/100\n",
      "240/240 [==============================] - 0s 928us/step - loss: 27.1517\n",
      "Epoch 73/100\n",
      "240/240 [==============================] - 0s 968us/step - loss: 26.9028\n",
      "Epoch 74/100\n",
      "240/240 [==============================] - 0s 1ms/step - loss: 26.9338\n",
      "Epoch 75/100\n",
      "240/240 [==============================] - 0s 1ms/step - loss: 27.5537\n",
      "Epoch 76/100\n",
      "240/240 [==============================] - 0s 985us/step - loss: 27.6102\n",
      "Epoch 77/100\n",
      "240/240 [==============================] - 0s 1ms/step - loss: 27.8287\n",
      "Epoch 78/100\n",
      "240/240 [==============================] - 0s 990us/step - loss: 27.1950\n",
      "Epoch 79/100\n",
      "240/240 [==============================] - 0s 1ms/step - loss: 26.6915\n",
      "Epoch 80/100\n",
      "240/240 [==============================] - 0s 980us/step - loss: 28.6232\n",
      "Epoch 81/100\n",
      "240/240 [==============================] - 0s 983us/step - loss: 27.0474\n",
      "Epoch 82/100\n",
      "240/240 [==============================] - 0s 1ms/step - loss: 27.2731\n",
      "Epoch 83/100\n",
      "240/240 [==============================] - 0s 964us/step - loss: 27.0701\n",
      "Epoch 84/100\n",
      "240/240 [==============================] - 0s 1ms/step - loss: 27.8555\n",
      "Epoch 85/100\n",
      "240/240 [==============================] - 0s 1ms/step - loss: 26.7292\n",
      "Epoch 86/100\n",
      "240/240 [==============================] - 0s 997us/step - loss: 27.6351\n",
      "Epoch 87/100\n",
      "240/240 [==============================] - 0s 1ms/step - loss: 26.6753\n",
      "Epoch 88/100\n",
      "240/240 [==============================] - 0s 946us/step - loss: 27.7044\n",
      "Epoch 89/100\n",
      "240/240 [==============================] - 0s 1ms/step - loss: 26.9400\n",
      "Epoch 90/100\n",
      "240/240 [==============================] - 0s 1ms/step - loss: 27.2897\n",
      "Epoch 91/100\n",
      "240/240 [==============================] - 0s 1ms/step - loss: 26.9310\n",
      "Epoch 92/100\n",
      "240/240 [==============================] - 0s 943us/step - loss: 26.9208\n",
      "Epoch 93/100\n",
      "240/240 [==============================] - 0s 1ms/step - loss: 27.4083\n",
      "Epoch 94/100\n",
      "240/240 [==============================] - 0s 1ms/step - loss: 27.1985\n",
      "Epoch 95/100\n",
      "240/240 [==============================] - 0s 1ms/step - loss: 26.7760\n",
      "Epoch 96/100\n",
      "240/240 [==============================] - 0s 1ms/step - loss: 27.5572\n",
      "Epoch 97/100\n"
     ]
    },
    {
     "name": "stdout",
     "output_type": "stream",
     "text": [
      "240/240 [==============================] - 0s 1ms/step - loss: 27.0440\n",
      "Epoch 98/100\n",
      "240/240 [==============================] - 0s 982us/step - loss: 27.5261\n",
      "Epoch 99/100\n",
      "240/240 [==============================] - 0s 1ms/step - loss: 27.3707\n",
      "Epoch 100/100\n",
      "240/240 [==============================] - 0s 1ms/step - loss: 27.7088\n"
     ]
    },
    {
     "data": {
      "text/plain": [
       "<keras.callbacks.History at 0x14cee618d520>"
      ]
     },
     "execution_count": 11,
     "metadata": {},
     "output_type": "execute_result"
    }
   ],
   "source": [
    "ann.fit(x_train, y_train, batch_size = 32, epochs = 100)"
   ]
  },
  {
   "cell_type": "markdown",
   "metadata": {},
   "source": [
    "## Predicting the results of the Test set"
   ]
  },
  {
   "cell_type": "code",
   "execution_count": 12,
   "metadata": {},
   "outputs": [
    {
     "name": "stdout",
     "output_type": "stream",
     "text": [
      "60/60 [==============================] - 0s 936us/step\n"
     ]
    }
   ],
   "source": [
    "y_pred = ann.predict(x_test)\n",
    "np.set_printoptions(precision = 2)"
   ]
  },
  {
   "cell_type": "code",
   "execution_count": 13,
   "metadata": {},
   "outputs": [
    {
     "name": "stdout",
     "output_type": "stream",
     "text": [
      "[[429.   431.23]\n",
      " [459.97 460.01]\n",
      " [463.47 461.14]\n",
      " ...\n",
      " [470.66 473.26]\n",
      " [437.59 438.  ]\n",
      " [456.73 463.28]]\n"
     ]
    }
   ],
   "source": [
    "print(np.concatenate((y_pred.reshape(len(y_pred), 1), y_test.reshape(len(y_test), 1)), 1))"
   ]
  },
  {
   "cell_type": "code",
   "execution_count": null,
   "metadata": {},
   "outputs": [],
   "source": []
  }
 ],
 "metadata": {
  "kernelspec": {
   "display_name": "Python 3",
   "language": "python",
   "name": "python3"
  },
  "language_info": {
   "codemirror_mode": {
    "name": "ipython",
    "version": 3
   },
   "file_extension": ".py",
   "mimetype": "text/x-python",
   "name": "python",
   "nbconvert_exporter": "python",
   "pygments_lexer": "ipython3",
   "version": "3.8.3"
  }
 },
 "nbformat": 4,
 "nbformat_minor": 4
}
